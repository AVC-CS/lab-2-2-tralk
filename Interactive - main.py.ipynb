{
 "cells": [
  {
   "cell_type": "markdown",
   "metadata": {
    "isInteractiveWindowMessageCell": true
   },
   "source": [
    "Connected to base (Python 3.11.4)"
   ]
  },
  {
   "cell_type": "code",
   "execution_count": 1,
   "metadata": {},
   "outputs": [
    {
     "name": "stdout",
     "output_type": "stream",
     "text": [
      "Regular hours: 40 Regular Charge: 730.0\n",
      "Overtime hours: 10 Overtime Charge: 277.80\n",
      "Total wage : 1007.80\n"
     ]
    }
   ],
   "source": [
    "def main():\n",
    "    workhours = int(input('Enter your work hours: '))\n",
    "    reg_hours = 40\n",
    "    reg_rate = 18.25\n",
    "    ov_rate = 27.78\n",
    "\n",
    "   ##################################################\n",
    "   # Code your program here\n",
    "   ##################################################\n",
    "    overtime = workhours - reg_hours\n",
    "    overtime_wage = overtime * ov_rate\n",
    "    regular_wage = reg_hours * reg_rate\n",
    "    total_wage = regular_wage + overtime_wage\n",
    "\n",
    "    print(f\"Regular hours: {reg_hours} Regular Charge: {regular_wage}\")\n",
    "    print(f\"Overtime hours: {overtime} Overtime Charge: {overtime_wage:.2f}\")\n",
    "    print(f\"Total wage : {total_wage:.2f}\")\n",
    "\n",
    "   ##################################################\n",
    "   # Do not delete the return statement\n",
    "   ##################################################\n",
    "    return regular_wage, overtime_wage, total_wage\n",
    "\n",
    "\n",
    "if __name__ == '__main__':\n",
    "    main()"
   ]
  },
  {
   "cell_type": "code",
   "execution_count": 2,
   "metadata": {},
   "outputs": [
    {
     "name": "stdout",
     "output_type": "stream",
     "text": [
      "Regular hours: 40 Regular Charge: 730.0\n",
      "Overtime hours: 10 Overtime Charge: 277.80\n",
      "Total wage : 1007.80\n"
     ]
    }
   ],
   "source": [
    "def main():\n",
    "    workhours = int(input('Enter your work hours: '))\n",
    "    reg_hours = 40\n",
    "    reg_rate = 18.25\n",
    "    ov_rate = 27.78\n",
    "\n",
    "   ##################################################\n",
    "   # Code your program here\n",
    "   ##################################################\n",
    "    overtime = (workhours) - (reg_hours)\n",
    "    overtime_wage = (overtime) * (ov_rate)\n",
    "    regular_wage = (reg_hours) * (reg_rate)\n",
    "    total_wage = (regular_wage) + (overtime_wage)\n",
    "\n",
    "    print(f\"Regular hours: {reg_hours} Regular Charge: {regular_wage}\")\n",
    "    print(f\"Overtime hours: {overtime} Overtime Charge: {overtime_wage:.2f}\")\n",
    "    print(f\"Total wage : {total_wage:.2f}\")\n",
    "\n",
    "   ##################################################\n",
    "   # Do not delete the return statement\n",
    "   ##################################################\n",
    "    return regular_wage, overtime_wage, total_wage\n",
    "\n",
    "\n",
    "if __name__ == '__main__':\n",
    "    main()"
   ]
  },
  {
   "cell_type": "code",
   "execution_count": 3,
   "metadata": {},
   "outputs": [
    {
     "name": "stdout",
     "output_type": "stream",
     "text": [
      "Regular Charge: 730.0\n",
      "Overtime Charge: 277.80\n",
      "Total wage : 1007.80\n"
     ]
    }
   ],
   "source": [
    "def main():\n",
    "    workhours = int(input('Enter your work hours: '))\n",
    "    reg_hours = 40\n",
    "    reg_rate = 18.25\n",
    "    ov_rate = 27.78\n",
    "\n",
    "   ##################################################\n",
    "   # Code your program here\n",
    "   ##################################################\n",
    "    overtime = (workhours) - (reg_hours)\n",
    "    overtime_wage = (overtime) * (ov_rate)\n",
    "    regular_wage = (reg_hours) * (reg_rate)\n",
    "    total_wage = (regular_wage) + (overtime_wage)\n",
    "\n",
    "    print (f\"Regular Charge: {regular_wage}\")\n",
    "    print(f\"Overtime Charge: {overtime_wage:.2f}\")\n",
    "    print(f\"Total wage : {total_wage:.2f}\")\n",
    "\n",
    "   ##################################################\n",
    "   # Do not delete the return statement\n",
    "   ##################################################\n",
    "    return regular_wage, overtime_wage, total_wage\n",
    "\n",
    "\n",
    "if __name__ == '__main__':\n",
    "    main()"
   ]
  },
  {
   "cell_type": "code",
   "execution_count": 4,
   "metadata": {},
   "outputs": [
    {
     "name": "stdout",
     "output_type": "stream",
     "text": [
      "Regular Charge: 730.0\n",
      "Overtime Charge: 277.80\n",
      "Total wage : $1007.80\n"
     ]
    }
   ],
   "source": [
    "def main():\n",
    "    workhours = int(input('Enter your work hours: '))\n",
    "    reg_hours = 40\n",
    "    reg_rate = 18.25\n",
    "    ov_rate = 27.78\n",
    "\n",
    "   ##################################################\n",
    "   # Code your program here\n",
    "   ##################################################\n",
    "    overtime = (workhours) - (reg_hours)\n",
    "    overtime_wage = (overtime) * (ov_rate)\n",
    "    regular_wage = (reg_hours) * (reg_rate)\n",
    "    total_wage = (regular_wage) + (overtime_wage)\n",
    "\n",
    "    print (f\"Regular Charge: {regular_wage}\")\n",
    "    print(f\"Overtime Charge: {overtime_wage:.2f}\")\n",
    "    print(f\"Total wage : ${total_wage:.2f}\")\n",
    "\n",
    "   ##################################################\n",
    "   # Do not delete the return statement\n",
    "   ##################################################\n",
    "    return regular_wage, overtime_wage, total_wage\n",
    "\n",
    "\n",
    "if __name__ == '__main__':\n",
    "    main()"
   ]
  }
 ],
 "metadata": {
  "kernelspec": {
   "display_name": "base",
   "language": "python",
   "name": "python3"
  },
  "language_info": {
   "name": "python",
   "version": "3.11.4"
  }
 },
 "nbformat": 4,
 "nbformat_minor": 2
}
